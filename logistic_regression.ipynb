{
 "cells": [
  {
   "cell_type": "code",
   "execution_count": 3,
   "id": "23b29805",
   "metadata": {},
   "outputs": [],
   "source": [
    "import numpy as np\n",
    "import pandas as pd\n",
    "import matplotlib.pyplot as plt\n",
    "from sklearn.model_selection import train_test_split\n",
    "from sklearn.tree import plot_tree\n",
    "from sklearn.metrics import classification_report, confusion_matrix, plot_confusion_matrix, accuracy_score, precision_score, recall_score\n",
    "from pydataset import data\n",
    "import prepare\n",
    "import acquire\n",
    "from sklearn.linear_model import LogisticRegression\n",
    "\n",
    "import warnings\n",
    "warnings.filterwarnings('ignore')\n"
   ]
  },
  {
   "cell_type": "markdown",
   "id": "529b2c65",
   "metadata": {},
   "source": [
    "In these exercises, we'll continue working with the titanic dataset and building logistic regression models. Throughout this exercise, be sure you are training, evaluation, and comparing models on the train and validate datasets. The test dataset should only be used for your final model.\n",
    "\n",
    "For all of the models you create, choose a threshold that optimizes for accuracy."
   ]
  },
  {
   "cell_type": "code",
   "execution_count": 4,
   "id": "262bcde7",
   "metadata": {},
   "outputs": [],
   "source": [
    "df = acquire.new_titanic_data()"
   ]
  },
  {
   "cell_type": "code",
   "execution_count": 5,
   "id": "5fa2d981",
   "metadata": {},
   "outputs": [
    {
     "data": {
      "text/html": [
       "<div>\n",
       "<style scoped>\n",
       "    .dataframe tbody tr th:only-of-type {\n",
       "        vertical-align: middle;\n",
       "    }\n",
       "\n",
       "    .dataframe tbody tr th {\n",
       "        vertical-align: top;\n",
       "    }\n",
       "\n",
       "    .dataframe thead th {\n",
       "        text-align: right;\n",
       "    }\n",
       "</style>\n",
       "<table border=\"1\" class=\"dataframe\">\n",
       "  <thead>\n",
       "    <tr style=\"text-align: right;\">\n",
       "      <th></th>\n",
       "      <th>passenger_id</th>\n",
       "      <th>survived</th>\n",
       "      <th>pclass</th>\n",
       "      <th>sex</th>\n",
       "      <th>age</th>\n",
       "      <th>sibsp</th>\n",
       "      <th>parch</th>\n",
       "      <th>fare</th>\n",
       "      <th>embarked</th>\n",
       "      <th>class</th>\n",
       "      <th>deck</th>\n",
       "      <th>embark_town</th>\n",
       "      <th>alone</th>\n",
       "    </tr>\n",
       "  </thead>\n",
       "  <tbody>\n",
       "    <tr>\n",
       "      <th>0</th>\n",
       "      <td>0</td>\n",
       "      <td>0</td>\n",
       "      <td>3</td>\n",
       "      <td>male</td>\n",
       "      <td>22.0</td>\n",
       "      <td>1</td>\n",
       "      <td>0</td>\n",
       "      <td>7.2500</td>\n",
       "      <td>S</td>\n",
       "      <td>Third</td>\n",
       "      <td>None</td>\n",
       "      <td>Southampton</td>\n",
       "      <td>0</td>\n",
       "    </tr>\n",
       "    <tr>\n",
       "      <th>1</th>\n",
       "      <td>1</td>\n",
       "      <td>1</td>\n",
       "      <td>1</td>\n",
       "      <td>female</td>\n",
       "      <td>38.0</td>\n",
       "      <td>1</td>\n",
       "      <td>0</td>\n",
       "      <td>71.2833</td>\n",
       "      <td>C</td>\n",
       "      <td>First</td>\n",
       "      <td>C</td>\n",
       "      <td>Cherbourg</td>\n",
       "      <td>0</td>\n",
       "    </tr>\n",
       "    <tr>\n",
       "      <th>2</th>\n",
       "      <td>2</td>\n",
       "      <td>1</td>\n",
       "      <td>3</td>\n",
       "      <td>female</td>\n",
       "      <td>26.0</td>\n",
       "      <td>0</td>\n",
       "      <td>0</td>\n",
       "      <td>7.9250</td>\n",
       "      <td>S</td>\n",
       "      <td>Third</td>\n",
       "      <td>None</td>\n",
       "      <td>Southampton</td>\n",
       "      <td>1</td>\n",
       "    </tr>\n",
       "    <tr>\n",
       "      <th>3</th>\n",
       "      <td>3</td>\n",
       "      <td>1</td>\n",
       "      <td>1</td>\n",
       "      <td>female</td>\n",
       "      <td>35.0</td>\n",
       "      <td>1</td>\n",
       "      <td>0</td>\n",
       "      <td>53.1000</td>\n",
       "      <td>S</td>\n",
       "      <td>First</td>\n",
       "      <td>C</td>\n",
       "      <td>Southampton</td>\n",
       "      <td>0</td>\n",
       "    </tr>\n",
       "    <tr>\n",
       "      <th>4</th>\n",
       "      <td>4</td>\n",
       "      <td>0</td>\n",
       "      <td>3</td>\n",
       "      <td>male</td>\n",
       "      <td>35.0</td>\n",
       "      <td>0</td>\n",
       "      <td>0</td>\n",
       "      <td>8.0500</td>\n",
       "      <td>S</td>\n",
       "      <td>Third</td>\n",
       "      <td>None</td>\n",
       "      <td>Southampton</td>\n",
       "      <td>1</td>\n",
       "    </tr>\n",
       "  </tbody>\n",
       "</table>\n",
       "</div>"
      ],
      "text/plain": [
       "   passenger_id  survived  pclass     sex   age  sibsp  parch     fare  \\\n",
       "0             0         0       3    male  22.0      1      0   7.2500   \n",
       "1             1         1       1  female  38.0      1      0  71.2833   \n",
       "2             2         1       3  female  26.0      0      0   7.9250   \n",
       "3             3         1       1  female  35.0      1      0  53.1000   \n",
       "4             4         0       3    male  35.0      0      0   8.0500   \n",
       "\n",
       "  embarked  class  deck  embark_town  alone  \n",
       "0        S  Third  None  Southampton      0  \n",
       "1        C  First     C    Cherbourg      0  \n",
       "2        S  Third  None  Southampton      1  \n",
       "3        S  First     C  Southampton      0  \n",
       "4        S  Third  None  Southampton      1  "
      ]
     },
     "execution_count": 5,
     "metadata": {},
     "output_type": "execute_result"
    }
   ],
   "source": [
    "df.head()"
   ]
  },
  {
   "cell_type": "code",
   "execution_count": 6,
   "id": "b0c6d8d6",
   "metadata": {},
   "outputs": [],
   "source": [
    "train, validate, test = prepare.prep_titanic_data(df)"
   ]
  },
  {
   "cell_type": "code",
   "execution_count": 7,
   "id": "149528bc",
   "metadata": {},
   "outputs": [
    {
     "data": {
      "text/plain": [
       "((498, 12), (214, 12), (179, 12))"
      ]
     },
     "execution_count": 7,
     "metadata": {},
     "output_type": "execute_result"
    }
   ],
   "source": [
    "train.shape, validate.shape, test.shape"
   ]
  },
  {
   "cell_type": "code",
   "execution_count": 8,
   "id": "83c14cdb",
   "metadata": {},
   "outputs": [
    {
     "data": {
      "text/html": [
       "<div>\n",
       "<style scoped>\n",
       "    .dataframe tbody tr th:only-of-type {\n",
       "        vertical-align: middle;\n",
       "    }\n",
       "\n",
       "    .dataframe tbody tr th {\n",
       "        vertical-align: top;\n",
       "    }\n",
       "\n",
       "    .dataframe thead th {\n",
       "        text-align: right;\n",
       "    }\n",
       "</style>\n",
       "<table border=\"1\" class=\"dataframe\">\n",
       "  <thead>\n",
       "    <tr style=\"text-align: right;\">\n",
       "      <th></th>\n",
       "      <th>survived</th>\n",
       "      <th>pclass</th>\n",
       "      <th>sex</th>\n",
       "      <th>age</th>\n",
       "      <th>sibsp</th>\n",
       "      <th>parch</th>\n",
       "      <th>fare</th>\n",
       "      <th>embark_town</th>\n",
       "      <th>alone</th>\n",
       "      <th>sex_male</th>\n",
       "      <th>embark_town_Queenstown</th>\n",
       "      <th>embark_town_Southampton</th>\n",
       "    </tr>\n",
       "  </thead>\n",
       "  <tbody>\n",
       "    <tr>\n",
       "      <th>583</th>\n",
       "      <td>0</td>\n",
       "      <td>1</td>\n",
       "      <td>male</td>\n",
       "      <td>36.000000</td>\n",
       "      <td>0</td>\n",
       "      <td>0</td>\n",
       "      <td>40.1250</td>\n",
       "      <td>Cherbourg</td>\n",
       "      <td>1</td>\n",
       "      <td>1</td>\n",
       "      <td>0</td>\n",
       "      <td>0</td>\n",
       "    </tr>\n",
       "    <tr>\n",
       "      <th>165</th>\n",
       "      <td>1</td>\n",
       "      <td>3</td>\n",
       "      <td>male</td>\n",
       "      <td>9.000000</td>\n",
       "      <td>0</td>\n",
       "      <td>2</td>\n",
       "      <td>20.5250</td>\n",
       "      <td>Southampton</td>\n",
       "      <td>0</td>\n",
       "      <td>1</td>\n",
       "      <td>0</td>\n",
       "      <td>1</td>\n",
       "    </tr>\n",
       "    <tr>\n",
       "      <th>50</th>\n",
       "      <td>0</td>\n",
       "      <td>3</td>\n",
       "      <td>male</td>\n",
       "      <td>7.000000</td>\n",
       "      <td>4</td>\n",
       "      <td>1</td>\n",
       "      <td>39.6875</td>\n",
       "      <td>Southampton</td>\n",
       "      <td>0</td>\n",
       "      <td>1</td>\n",
       "      <td>0</td>\n",
       "      <td>1</td>\n",
       "    </tr>\n",
       "    <tr>\n",
       "      <th>259</th>\n",
       "      <td>1</td>\n",
       "      <td>2</td>\n",
       "      <td>female</td>\n",
       "      <td>50.000000</td>\n",
       "      <td>0</td>\n",
       "      <td>1</td>\n",
       "      <td>26.0000</td>\n",
       "      <td>Southampton</td>\n",
       "      <td>0</td>\n",
       "      <td>0</td>\n",
       "      <td>0</td>\n",
       "      <td>1</td>\n",
       "    </tr>\n",
       "    <tr>\n",
       "      <th>306</th>\n",
       "      <td>1</td>\n",
       "      <td>1</td>\n",
       "      <td>female</td>\n",
       "      <td>29.678105</td>\n",
       "      <td>0</td>\n",
       "      <td>0</td>\n",
       "      <td>110.8833</td>\n",
       "      <td>Cherbourg</td>\n",
       "      <td>1</td>\n",
       "      <td>0</td>\n",
       "      <td>0</td>\n",
       "      <td>0</td>\n",
       "    </tr>\n",
       "  </tbody>\n",
       "</table>\n",
       "</div>"
      ],
      "text/plain": [
       "     survived  pclass     sex        age  sibsp  parch      fare  embark_town  \\\n",
       "583         0       1    male  36.000000      0      0   40.1250    Cherbourg   \n",
       "165         1       3    male   9.000000      0      2   20.5250  Southampton   \n",
       "50          0       3    male   7.000000      4      1   39.6875  Southampton   \n",
       "259         1       2  female  50.000000      0      1   26.0000  Southampton   \n",
       "306         1       1  female  29.678105      0      0  110.8833    Cherbourg   \n",
       "\n",
       "     alone  sex_male  embark_town_Queenstown  embark_town_Southampton  \n",
       "583      1         1                       0                        0  \n",
       "165      0         1                       0                        1  \n",
       "50       0         1                       0                        1  \n",
       "259      0         0                       0                        1  \n",
       "306      1         0                       0                        0  "
      ]
     },
     "execution_count": 8,
     "metadata": {},
     "output_type": "execute_result"
    }
   ],
   "source": [
    "train.head()"
   ]
  },
  {
   "cell_type": "code",
   "execution_count": 9,
   "id": "5007da43",
   "metadata": {},
   "outputs": [],
   "source": [
    "train = train.drop(columns=['sex', 'embark_town'])"
   ]
  },
  {
   "cell_type": "code",
   "execution_count": 10,
   "id": "f99b3392",
   "metadata": {},
   "outputs": [],
   "source": [
    "validate = validate.drop(columns=['sex', 'embark_town'])"
   ]
  },
  {
   "cell_type": "code",
   "execution_count": 11,
   "id": "96dfe67c",
   "metadata": {},
   "outputs": [],
   "source": [
    "test = test.drop(columns=['sex', 'embark_town'])"
   ]
  },
  {
   "cell_type": "code",
   "execution_count": 12,
   "id": "bdb38198",
   "metadata": {},
   "outputs": [],
   "source": [
    "X_train = train.drop(columns='survived')\n",
    "y_train = train['survived']\n",
    "\n",
    "X_validate = validate.drop(columns='survived')\n",
    "y_validate = validate['survived']\n",
    "\n",
    "X_test = test.drop(columns='survived')\n",
    "y_test = test['survived']"
   ]
  },
  {
   "cell_type": "code",
   "execution_count": 13,
   "id": "a5770e0e",
   "metadata": {},
   "outputs": [],
   "source": [
    "def establish_baseline(y_train):\n",
    "    #  establish the value we will predict for all observations\n",
    "    baseline_prediction = y_train.mode()\n",
    "\n",
    "    # create a series of predictions with that value, \n",
    "    # the same length as our training set\n",
    "    y_train_pred = pd.Series([0]*len(y_train))\n",
    "\n",
    "    # compute accuracy of baseline\n",
    "    cm = confusion_matrix(y_train, y_train_pred)\n",
    "    tn, fp, fn, tp = cm.ravel()\n",
    "\n",
    "    accuracy = (tp+tn)/(tn+fp+fn+tp)\n",
    "    return accuracy"
   ]
  },
  {
   "cell_type": "code",
   "execution_count": 14,
   "id": "e2f8531b",
   "metadata": {},
   "outputs": [
    {
     "data": {
      "text/plain": [
       "0.6164658634538153"
      ]
     },
     "execution_count": 14,
     "metadata": {},
     "output_type": "execute_result"
    }
   ],
   "source": [
    "establish_baseline(y_train)"
   ]
  },
  {
   "cell_type": "markdown",
   "id": "6a322052",
   "metadata": {},
   "source": [
    "Create a model that includes only age, fare, and pclass. Does this model perform better than your baseline?"
   ]
  },
  {
   "cell_type": "code",
   "execution_count": 50,
   "id": "3920eb84",
   "metadata": {},
   "outputs": [],
   "source": [
    "X_train2 = train.drop(columns=['survived','sibsp', 'parch', 'alone', 'sex_male',\n",
    "                               'embark_town_Queenstown', 'embark_town_Southampton'])\n",
    "y_train2 = train['survived']\n",
    "\n",
    "X_validate2 = validate.drop(columns=['survived','sibsp', 'parch', 'alone', 'sex_male',\n",
    "                                     'embark_town_Queenstown', 'embark_town_Southampton'])\n",
    "y_validate2 = validate['survived']\n",
    "\n",
    "X_test2 = test.drop(columns=['survived','sibsp', 'parch', 'alone', 'sex_male',\n",
    "                             'embark_town_Queenstown', 'embark_town_Southampton'])\n",
    "y_test2 = test['survived']"
   ]
  },
  {
   "cell_type": "code",
   "execution_count": 67,
   "id": "7829c15f",
   "metadata": {},
   "outputs": [],
   "source": [
    "seed = 42\n",
    "\n",
    "logit2 = LogisticRegression(random_state=seed)"
   ]
  },
  {
   "cell_type": "code",
   "execution_count": 68,
   "id": "c685d93b",
   "metadata": {},
   "outputs": [
    {
     "data": {
      "text/plain": [
       "LogisticRegression(random_state=42)"
      ]
     },
     "execution_count": 68,
     "metadata": {},
     "output_type": "execute_result"
    }
   ],
   "source": [
    "logit2"
   ]
  },
  {
   "cell_type": "code",
   "execution_count": 69,
   "id": "92194c0b",
   "metadata": {},
   "outputs": [
    {
     "data": {
      "text/plain": [
       "LogisticRegression(random_state=42)"
      ]
     },
     "execution_count": 69,
     "metadata": {},
     "output_type": "execute_result"
    }
   ],
   "source": [
    "logit2.fit(X_train2, y_train2)"
   ]
  },
  {
   "cell_type": "code",
   "execution_count": 70,
   "id": "b60b09d3",
   "metadata": {},
   "outputs": [
    {
     "data": {
      "text/plain": [
       "0.7028112449799196"
      ]
     },
     "execution_count": 70,
     "metadata": {},
     "output_type": "execute_result"
    }
   ],
   "source": [
    "logit2.score(X_train2, y_train2)"
   ]
  },
  {
   "cell_type": "code",
   "execution_count": 71,
   "id": "99281519",
   "metadata": {},
   "outputs": [
    {
     "data": {
      "text/plain": [
       "0.7102803738317757"
      ]
     },
     "execution_count": 71,
     "metadata": {},
     "output_type": "execute_result"
    }
   ],
   "source": [
    "logit2.score(X_validate2, y_validate2)\n"
   ]
  },
  {
   "cell_type": "code",
   "execution_count": 113,
   "id": "8b50e920",
   "metadata": {},
   "outputs": [],
   "source": [
    "y_train_pred2 = logit2.predict(X_validate2)"
   ]
  },
  {
   "cell_type": "code",
   "execution_count": 114,
   "id": "450a66ce",
   "metadata": {},
   "outputs": [],
   "source": [
    "y_val_pred2 = logit2.predict(X_train2)"
   ]
  },
  {
   "cell_type": "code",
   "execution_count": null,
   "id": "d8e0aff6",
   "metadata": {},
   "outputs": [],
   "source": [
    "    train_acc = logit2.score(X_train2, y_train2)\n",
    "    val_acc = logit2.score(X_validate2, y_validate2)"
   ]
  },
  {
   "cell_type": "markdown",
   "id": "54f321b6",
   "metadata": {},
   "source": [
    "Include sex in your model as well. Note that you'll need to encode or create a dummy variable of this feature before including it in a model."
   ]
  },
  {
   "cell_type": "code",
   "execution_count": 61,
   "id": "9f31f723",
   "metadata": {},
   "outputs": [],
   "source": [
    "X_train3 = train.drop(columns=['survived','sibsp', 'parch', 'alone',\n",
    "                               'embark_town_Queenstown', 'embark_town_Southampton'])\n",
    "y_train3 = train['survived']\n",
    "\n",
    "X_validate3 = validate.drop(columns=['survived','sibsp', 'parch', 'alone',\n",
    "                                     'embark_town_Queenstown', 'embark_town_Southampton'])\n",
    "y_validate3 = validate['survived']\n",
    "\n",
    "X_test3 = test.drop(columns=['survived','sibsp', 'parch', 'alone',\n",
    "                             'embark_town_Queenstown', 'embark_town_Southampton'])\n",
    "y_test3 = test['survived']"
   ]
  },
  {
   "cell_type": "code",
   "execution_count": 72,
   "id": "3ce01137",
   "metadata": {},
   "outputs": [],
   "source": [
    "seed = 42\n",
    "\n",
    "logit3 = LogisticRegression(random_state=seed)"
   ]
  },
  {
   "cell_type": "code",
   "execution_count": 73,
   "id": "b24f4dd7",
   "metadata": {},
   "outputs": [
    {
     "data": {
      "text/plain": [
       "LogisticRegression(random_state=42)"
      ]
     },
     "execution_count": 73,
     "metadata": {},
     "output_type": "execute_result"
    }
   ],
   "source": [
    "logit3"
   ]
  },
  {
   "cell_type": "code",
   "execution_count": 74,
   "id": "9e0dfee3",
   "metadata": {},
   "outputs": [
    {
     "data": {
      "text/plain": [
       "LogisticRegression(random_state=42)"
      ]
     },
     "execution_count": 74,
     "metadata": {},
     "output_type": "execute_result"
    }
   ],
   "source": [
    "logit3.fit(X_train3, y_train3)"
   ]
  },
  {
   "cell_type": "code",
   "execution_count": 75,
   "id": "539af1e4",
   "metadata": {},
   "outputs": [
    {
     "data": {
      "text/plain": [
       "0.8132530120481928"
      ]
     },
     "execution_count": 75,
     "metadata": {},
     "output_type": "execute_result"
    }
   ],
   "source": [
    "logit3.score(X_train3, y_train3)"
   ]
  },
  {
   "cell_type": "code",
   "execution_count": 76,
   "id": "ed7f70ea",
   "metadata": {},
   "outputs": [
    {
     "data": {
      "text/plain": [
       "0.7757009345794392"
      ]
     },
     "execution_count": 76,
     "metadata": {},
     "output_type": "execute_result"
    }
   ],
   "source": [
    "logit3.score(X_validate3, y_validate3)"
   ]
  },
  {
   "cell_type": "code",
   "execution_count": 115,
   "id": "4896a1ab",
   "metadata": {},
   "outputs": [],
   "source": [
    "y_train_pred3 = logit3.predict(X_validate3)"
   ]
  },
  {
   "cell_type": "code",
   "execution_count": 116,
   "id": "22ec5939",
   "metadata": {},
   "outputs": [],
   "source": [
    "y_val_pred3 = logit3.predict(X_train3)"
   ]
  },
  {
   "cell_type": "markdown",
   "id": "9529bb7a",
   "metadata": {},
   "source": [
    "Try out other combinations of features and models."
   ]
  },
  {
   "cell_type": "code",
   "execution_count": 77,
   "id": "ff455073",
   "metadata": {},
   "outputs": [],
   "source": [
    "X_train4 = train.drop(columns=['survived','sibsp', 'parch', 'alone',\n",
    "                               'embark_town_Queenstown', 'embark_town_Southampton'])\n",
    "y_train4 = train['survived']\n",
    "\n",
    "X_validate4 = validate.drop(columns=['survived','sibsp', 'parch', 'alone',\n",
    "                                     'embark_town_Queenstown', 'embark_town_Southampton'])\n",
    "y_validate4 = validate['survived']\n",
    "\n",
    "X_test4 = test.drop(columns=['survived','sibsp', 'parch', 'alone',\n",
    "                             'embark_town_Queenstown', 'embark_town_Southampton'])\n",
    "y_test4 = test['survived']"
   ]
  },
  {
   "cell_type": "code",
   "execution_count": 84,
   "id": "fa89bd2b",
   "metadata": {},
   "outputs": [],
   "source": [
    "logit4 = LogisticRegression(C=.1, class_weight={0:1, 1:99}, random_state=42, intercept_scaling=1, solver='lbfgs')\n"
   ]
  },
  {
   "cell_type": "code",
   "execution_count": 85,
   "id": "1e78594c",
   "metadata": {},
   "outputs": [
    {
     "data": {
      "text/plain": [
       "LogisticRegression(C=0.1, class_weight={0: 1, 1: 99}, random_state=42)"
      ]
     },
     "execution_count": 85,
     "metadata": {},
     "output_type": "execute_result"
    }
   ],
   "source": [
    "logit4"
   ]
  },
  {
   "cell_type": "code",
   "execution_count": 86,
   "id": "3c91d270",
   "metadata": {},
   "outputs": [
    {
     "data": {
      "text/plain": [
       "LogisticRegression(C=0.1, class_weight={0: 1, 1: 99}, random_state=42)"
      ]
     },
     "execution_count": 86,
     "metadata": {},
     "output_type": "execute_result"
    }
   ],
   "source": [
    "logit4.fit(X_train4, y_train4)"
   ]
  },
  {
   "cell_type": "code",
   "execution_count": 87,
   "id": "c53f24bc",
   "metadata": {},
   "outputs": [
    {
     "data": {
      "text/plain": [
       "0.38353413654618473"
      ]
     },
     "execution_count": 87,
     "metadata": {},
     "output_type": "execute_result"
    }
   ],
   "source": [
    "logit4.score(X_train4, y_train4)"
   ]
  },
  {
   "cell_type": "code",
   "execution_count": 88,
   "id": "8f2e2e26",
   "metadata": {},
   "outputs": [
    {
     "data": {
      "text/plain": [
       "0.38317757009345793"
      ]
     },
     "execution_count": 88,
     "metadata": {},
     "output_type": "execute_result"
    }
   ],
   "source": [
    "logit4.score(X_validate4, y_validate4)"
   ]
  },
  {
   "cell_type": "code",
   "execution_count": 117,
   "id": "58038445",
   "metadata": {},
   "outputs": [],
   "source": [
    "y_train_pred4 = logit4.predict(X_validate4)"
   ]
  },
  {
   "cell_type": "code",
   "execution_count": 118,
   "id": "0c95d308",
   "metadata": {},
   "outputs": [],
   "source": [
    "y_val_pred4 = logit4.predict(X_train4)"
   ]
  },
  {
   "cell_type": "code",
   "execution_count": 89,
   "id": "636b7e19",
   "metadata": {},
   "outputs": [],
   "source": [
    "X_train5 = train.drop(columns=['survived','sibsp', 'parch', 'alone',\n",
    "                               'embark_town_Queenstown', 'embark_town_Southampton'])\n",
    "y_train5 = train['survived']\n",
    "\n",
    "X_validate5 = validate.drop(columns=['survived','sibsp', 'parch', 'alone',\n",
    "                                     'embark_town_Queenstown', 'embark_town_Southampton'])\n",
    "y_validate5 = validate['survived']\n",
    "\n",
    "X_test5 = test.drop(columns=['survived','sibsp', 'parch', 'alone',\n",
    "                             'embark_town_Queenstown', 'embark_town_Southampton'])\n",
    "y_test5 = test['survived']"
   ]
  },
  {
   "cell_type": "code",
   "execution_count": 95,
   "id": "8a70bbb3",
   "metadata": {},
   "outputs": [],
   "source": [
    "logit5 = LogisticRegression(penalty='l1', random_state=seed,\n",
    "                            solver='liblinear', max_iter=200)"
   ]
  },
  {
   "cell_type": "code",
   "execution_count": 96,
   "id": "1c890249",
   "metadata": {},
   "outputs": [
    {
     "data": {
      "text/plain": [
       "LogisticRegression(max_iter=200, penalty='l1', random_state=42,\n",
       "                   solver='liblinear')"
      ]
     },
     "execution_count": 96,
     "metadata": {},
     "output_type": "execute_result"
    }
   ],
   "source": [
    "logit5"
   ]
  },
  {
   "cell_type": "code",
   "execution_count": 100,
   "id": "ff903801",
   "metadata": {},
   "outputs": [
    {
     "data": {
      "text/plain": [
       "LogisticRegression(max_iter=200, penalty='l1', random_state=42,\n",
       "                   solver='liblinear')"
      ]
     },
     "execution_count": 100,
     "metadata": {},
     "output_type": "execute_result"
    }
   ],
   "source": [
    "logit5.fit(X_train5, y_train5)"
   ]
  },
  {
   "cell_type": "code",
   "execution_count": 101,
   "id": "eb28824f",
   "metadata": {},
   "outputs": [
    {
     "data": {
      "text/plain": [
       "0.8012048192771084"
      ]
     },
     "execution_count": 101,
     "metadata": {},
     "output_type": "execute_result"
    }
   ],
   "source": [
    "logit5.score(X_train5, y_train5)"
   ]
  },
  {
   "cell_type": "code",
   "execution_count": 102,
   "id": "5a28d7da",
   "metadata": {},
   "outputs": [
    {
     "data": {
      "text/plain": [
       "0.7710280373831776"
      ]
     },
     "execution_count": 102,
     "metadata": {},
     "output_type": "execute_result"
    }
   ],
   "source": [
    "logit5.score(X_validate5, y_validate5)"
   ]
  },
  {
   "cell_type": "code",
   "execution_count": 119,
   "id": "39c52efe",
   "metadata": {},
   "outputs": [],
   "source": [
    "y_train_pred5 = logit5.predict(X_validate5)"
   ]
  },
  {
   "cell_type": "code",
   "execution_count": 120,
   "id": "fb488208",
   "metadata": {},
   "outputs": [],
   "source": [
    "y_val_pred5 = logit5.predict(X_train5)"
   ]
  },
  {
   "cell_type": "markdown",
   "id": "282dea38",
   "metadata": {},
   "source": [
    "Use your best 3 models to predict and evaluate on your validate sample."
   ]
  },
  {
   "cell_type": "code",
   "execution_count": 132,
   "id": "13367b1c",
   "metadata": {},
   "outputs": [],
   "source": [
    "def logit_fit_predict(i,X_train2, y_train2, X_validate2):\n",
    "    # create the object\n",
    "\n",
    "    logit = LogisticRegression(random_state=seed)\n",
    "\n",
    "    # create the model\n",
    "    logit2.fit(X_train2, y_train2)\n",
    "\n",
    "    # run the model\n",
    "    y_train_pred2 = logit2.predict(X_train2)\n",
    "    y_val_pred2 = logit2.predict(X_validate2)\n",
    "    \n",
    "    return logit2, y_train_pred2, y_val_pred2\n",
    "\n",
    "def evaluate_clf(model, X, y, y_pred):\n",
    "    # model score\n",
    "    accuracy = model.score(X, y)\n",
    "\n",
    "    print(f'Accuracy: {accuracy}')\n",
    "\n",
    "    # confusion matrix\n",
    "    cm = confusion_matrix(y, y_pred)\n",
    "    print('Confusion Matrix')\n",
    "    print(pd.DataFrame(cm, index=['Actual 0', 'Actual 1'], \n",
    "                       columns=['Pred 0', 'Pred 1']))\n",
    "\n",
    "    # classification report\n",
    "    print('Classification Report')\n",
    "    print(pd.DataFrame(classification_report(y, y_pred,\n",
    "                                             output_dict=True)))\n",
    "    # confusion matrix metrics\n",
    "    print_cm_metrics(cm)\n",
    "    \n",
    "    return accuracy"
   ]
  },
  {
   "cell_type": "code",
   "execution_count": 134,
   "id": "7b04fc03",
   "metadata": {},
   "outputs": [
    {
     "data": {
      "text/html": [
       "<div>\n",
       "<style scoped>\n",
       "    .dataframe tbody tr th:only-of-type {\n",
       "        vertical-align: middle;\n",
       "    }\n",
       "\n",
       "    .dataframe tbody tr th {\n",
       "        vertical-align: top;\n",
       "    }\n",
       "\n",
       "    .dataframe thead th {\n",
       "        text-align: right;\n",
       "    }\n",
       "</style>\n",
       "<table border=\"1\" class=\"dataframe\">\n",
       "  <thead>\n",
       "    <tr style=\"text-align: right;\">\n",
       "      <th></th>\n",
       "      <th>train_accuracy</th>\n",
       "      <th>validate_accuracy</th>\n",
       "      <th>difference</th>\n",
       "    </tr>\n",
       "  </thead>\n",
       "  <tbody>\n",
       "    <tr>\n",
       "      <th>0</th>\n",
       "      <td>0.702811</td>\n",
       "      <td>0.71028</td>\n",
       "      <td>-0.007469</td>\n",
       "    </tr>\n",
       "  </tbody>\n",
       "</table>\n",
       "</div>"
      ],
      "text/plain": [
       "   train_accuracy  validate_accuracy  difference\n",
       "0        0.702811            0.71028   -0.007469"
      ]
     },
     "execution_count": 134,
     "metadata": {},
     "output_type": "execute_result"
    }
   ],
   "source": [
    "metrics = []\n",
    "\n",
    "for i in range(1):\n",
    "    logit2, y_train_pred2, y_val_pred2 = logit_fit_predict(i,X_train2, \n",
    "                                                           y_train2, \n",
    "                                                           X_validate2)\n",
    "    train_acc = logit2.score(X_train2, y_train2)\n",
    "    val_acc = logit2.score(X_validate2, y_validate2)\n",
    "    \n",
    "    output = {\n",
    "              \"train_accuracy\": train_acc,\n",
    "              \"validate_accuracy\": val_acc\n",
    "    }\n",
    "\n",
    "    metrics.append(output)\n",
    "    \n",
    "eval_df = pd.DataFrame(metrics)\n",
    "eval_df['difference'] = eval_df['train_accuracy'] - eval_df['validate_accuracy']\n",
    "\n",
    "eval_df"
   ]
  },
  {
   "cell_type": "code",
   "execution_count": 137,
   "id": "9bd99b9b",
   "metadata": {},
   "outputs": [
    {
     "data": {
      "text/html": [
       "<div>\n",
       "<style scoped>\n",
       "    .dataframe tbody tr th:only-of-type {\n",
       "        vertical-align: middle;\n",
       "    }\n",
       "\n",
       "    .dataframe tbody tr th {\n",
       "        vertical-align: top;\n",
       "    }\n",
       "\n",
       "    .dataframe thead th {\n",
       "        text-align: right;\n",
       "    }\n",
       "</style>\n",
       "<table border=\"1\" class=\"dataframe\">\n",
       "  <thead>\n",
       "    <tr style=\"text-align: right;\">\n",
       "      <th></th>\n",
       "      <th>train_accuracy</th>\n",
       "      <th>validate_accuracy</th>\n",
       "      <th>difference</th>\n",
       "    </tr>\n",
       "  </thead>\n",
       "  <tbody>\n",
       "    <tr>\n",
       "      <th>0</th>\n",
       "      <td>0.813253</td>\n",
       "      <td>0.775701</td>\n",
       "      <td>0.037552</td>\n",
       "    </tr>\n",
       "  </tbody>\n",
       "</table>\n",
       "</div>"
      ],
      "text/plain": [
       "   train_accuracy  validate_accuracy  difference\n",
       "0        0.813253           0.775701    0.037552"
      ]
     },
     "execution_count": 137,
     "metadata": {},
     "output_type": "execute_result"
    }
   ],
   "source": [
    "metrics = []\n",
    "\n",
    "for i in range(1):\n",
    "    logit3, y_train_pred3, y_val_pred3 = logit_fit_predict(i,X_train3, \n",
    "                                                           y_train3, \n",
    "                                                           X_validate3)\n",
    "    train_acc = logit3.score(X_train3, y_train3)\n",
    "    val_acc = logit3.score(X_validate3, y_validate3)\n",
    "    \n",
    "    output = {\n",
    "              \"train_accuracy\": train_acc,\n",
    "              \"validate_accuracy\": val_acc\n",
    "    }\n",
    "\n",
    "    metrics.append(output)\n",
    "    \n",
    "eval_df = pd.DataFrame(metrics)\n",
    "eval_df['difference'] = eval_df['train_accuracy'] - eval_df['validate_accuracy']\n",
    "\n",
    "eval_df"
   ]
  },
  {
   "cell_type": "code",
   "execution_count": 138,
   "id": "db4a699f",
   "metadata": {},
   "outputs": [
    {
     "data": {
      "text/html": [
       "<div>\n",
       "<style scoped>\n",
       "    .dataframe tbody tr th:only-of-type {\n",
       "        vertical-align: middle;\n",
       "    }\n",
       "\n",
       "    .dataframe tbody tr th {\n",
       "        vertical-align: top;\n",
       "    }\n",
       "\n",
       "    .dataframe thead th {\n",
       "        text-align: right;\n",
       "    }\n",
       "</style>\n",
       "<table border=\"1\" class=\"dataframe\">\n",
       "  <thead>\n",
       "    <tr style=\"text-align: right;\">\n",
       "      <th></th>\n",
       "      <th>train_accuracy</th>\n",
       "      <th>validate_accuracy</th>\n",
       "      <th>difference</th>\n",
       "    </tr>\n",
       "  </thead>\n",
       "  <tbody>\n",
       "    <tr>\n",
       "      <th>0</th>\n",
       "      <td>0.813253</td>\n",
       "      <td>0.775701</td>\n",
       "      <td>0.037552</td>\n",
       "    </tr>\n",
       "  </tbody>\n",
       "</table>\n",
       "</div>"
      ],
      "text/plain": [
       "   train_accuracy  validate_accuracy  difference\n",
       "0        0.813253           0.775701    0.037552"
      ]
     },
     "execution_count": 138,
     "metadata": {},
     "output_type": "execute_result"
    }
   ],
   "source": [
    "metrics = []\n",
    "\n",
    "for i in range(1):\n",
    "    logit5, y_train_pred5, y_val_pred5 = logit_fit_predict(i,X_train5, \n",
    "                                                           y_train5, \n",
    "                                                           X_validate5)\n",
    "    train_acc = logit5.score(X_train5, y_train5)\n",
    "    val_acc = logit5.score(X_validate5, y_validate5)\n",
    "    \n",
    "    output = {\n",
    "              \"train_accuracy\": train_acc,\n",
    "              \"validate_accuracy\": val_acc\n",
    "    }\n",
    "\n",
    "    metrics.append(output)\n",
    "    \n",
    "eval_df = pd.DataFrame(metrics)\n",
    "eval_df['difference'] = eval_df['train_accuracy'] - eval_df['validate_accuracy']\n",
    "\n",
    "eval_df"
   ]
  },
  {
   "cell_type": "markdown",
   "id": "27e7d42e",
   "metadata": {},
   "source": [
    "Choose your best model from the validation performation, and evaluate it on the test dataset. How do the performance metrics compare to validate? to train?"
   ]
  },
  {
   "cell_type": "code",
   "execution_count": null,
   "id": "7bf10623",
   "metadata": {},
   "outputs": [],
   "source": []
  },
  {
   "cell_type": "code",
   "execution_count": null,
   "id": "fb276c49",
   "metadata": {},
   "outputs": [],
   "source": []
  },
  {
   "cell_type": "code",
   "execution_count": null,
   "id": "4a6faac7",
   "metadata": {},
   "outputs": [],
   "source": []
  },
  {
   "cell_type": "code",
   "execution_count": null,
   "id": "4db66479",
   "metadata": {},
   "outputs": [],
   "source": []
  },
  {
   "cell_type": "code",
   "execution_count": null,
   "id": "408b4b6c",
   "metadata": {},
   "outputs": [],
   "source": []
  },
  {
   "cell_type": "code",
   "execution_count": null,
   "id": "8daeecfb",
   "metadata": {},
   "outputs": [],
   "source": []
  },
  {
   "cell_type": "code",
   "execution_count": null,
   "id": "14fb0024",
   "metadata": {},
   "outputs": [],
   "source": []
  },
  {
   "cell_type": "code",
   "execution_count": null,
   "id": "0e0cec2e",
   "metadata": {},
   "outputs": [],
   "source": []
  }
 ],
 "metadata": {
  "kernelspec": {
   "display_name": "Python 3 (ipykernel)",
   "language": "python",
   "name": "python3"
  },
  "language_info": {
   "codemirror_mode": {
    "name": "ipython",
    "version": 3
   },
   "file_extension": ".py",
   "mimetype": "text/x-python",
   "name": "python",
   "nbconvert_exporter": "python",
   "pygments_lexer": "ipython3",
   "version": "3.9.13"
  }
 },
 "nbformat": 4,
 "nbformat_minor": 5
}
